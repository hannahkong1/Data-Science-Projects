{
 "cells": [
  {
   "cell_type": "markdown",
   "metadata": {},
   "source": [
    "# Making Inferences Based on U.S. Sales of Popular Video Games\n",
    "\n",
    "Hannah Kong"
   ]
  },
  {
   "cell_type": "markdown",
   "metadata": {},
   "source": [
    "## 1. Introduction"
   ]
  },
  {
   "cell_type": "code",
   "execution_count": 3,
   "metadata": {},
   "outputs": [],
   "source": [
    "#Imports here\n",
    "import pandas as pd\n",
    "import seaborn as sns"
   ]
  },
  {
   "cell_type": "code",
   "execution_count": 4,
   "metadata": {},
   "outputs": [],
   "source": [
    "df = pd.read_csv(\"video_games.csv\", encoding = 'unicode_escape')"
   ]
  },
  {
   "cell_type": "markdown",
   "metadata": {},
   "source": [
    "#### A.) Dataset Introduction"
   ]
  },
  {
   "cell_type": "markdown",
   "metadata": {},
   "source": [
    "The dataset that is going to be used in this analysis is the video games dataset provided by the Professor. The video games dataset has many quantitative and categorial variables for each unit of observation(one video game released between 2004-2010 sold in the U.S.). Some important variables include the console, title, US Sales, Year Released, and Used Price. The purpose of the data collected was to determine which aspects of a video game influenced how much money it made in US Sales and therefore the relationship between certain variables and the likelihood of a video game becoming a block-buster game.  "
   ]
  },
  {
   "cell_type": "markdown",
   "metadata": {},
   "source": [
    "#### B.) Populations and Samples"
   ]
  },
  {
   "cell_type": "markdown",
   "metadata": {},
   "source": [
    "The Video Games Dataset represents a sample of video games. I know this because the units of observations in this dataset are only video games that are sold in the States that were released in years 2004-2010. Therefore the corresponding population of interest should be video games sold anywhere in the world, no matter their release date. "
   ]
  },
  {
   "cell_type": "markdown",
   "metadata": {},
   "source": [
    "#### C.) Motivation"
   ]
  },
  {
   "cell_type": "markdown",
   "metadata": {},
   "source": [
    "Individuals who are looking to create their own video game or looking to invest in an up and coming game would be interested in exploring this dataset. This dataset aims to determine what makes a video game succesful by recording data on different variables that might present a correlation between why one video game does better than another in terms of sales. Someone could look at this dataset and compare their own values to each variable to the values of other video games that have gone big. They might configure their game closer to the different aspects that made one specific game more popular and succesful than all the others."
   ]
  },
  {
   "cell_type": "markdown",
   "metadata": {},
   "source": [
    "#### D.) Research Questions"
   ]
  },
  {
   "cell_type": "markdown",
   "metadata": {},
   "source": [
    "1. How is the used price of a video game collected because it might sell for different prices at different stores? What's a reasonable price range for a video game in the population of all video games released?\n",
    "   \n",
    "3. Is there a relationship between what console a video game is offered on and their US sales in millions? Is there an association between these two variables in my population?\n",
    "\n",
    "I am interested in answering these research questions because the price at which a game is selling at as well as the console(s) play a large role in whether or not a video game could go big. The answers to these research questions can be used by individuals who are looking to create their own video game or those who are trying to determine whether or not they would like to invest a certain video game. They could see if that game is priced reasonably and also what publisher is publishing it. "
   ]
  },
  {
   "cell_type": "markdown",
   "metadata": {},
   "source": [
    "## 2. Confidence Interval Analytical Tasks"
   ]
  },
  {
   "cell_type": "markdown",
   "metadata": {},
   "source": [
    "#### A.) Research Questions"
   ]
  },
  {
   "cell_type": "markdown",
   "metadata": {},
   "source": [
    "1. How is the used price of a video game collected because it might sell for different prices at different stores? What's a reasonable price range for a video game in the population of all video games released?"
   ]
  },
  {
   "cell_type": "markdown",
   "metadata": {},
   "source": [
    "#### B.) Dataset Cleaning"
   ]
  },
  {
   "cell_type": "code",
   "execution_count": 6,
   "metadata": {},
   "outputs": [
    {
     "data": {
      "text/plain": [
       "array([ 24.95,  14.95,  22.95,  12.95,  19.95,  17.95,   8.95,   9.95,\n",
       "         7.95,  16.95,  29.95,  26.95,  15.95,   4.95,  13.95,  11.95,\n",
       "         6.95,   5.95,  27.95,  39.95,  10.95,  32.95,  49.95,  23.95,\n",
       "        34.95,  44.95, 119.95,  47.95,  37.95])"
      ]
     },
     "execution_count": 6,
     "metadata": {},
     "output_type": "execute_result"
    }
   ],
   "source": [
    "df['Usedprice'].unique()"
   ]
  },
  {
   "cell_type": "markdown",
   "metadata": {},
   "source": [
    "My variable of interest, the used price of a video game, has no missing values."
   ]
  },
  {
   "cell_type": "markdown",
   "metadata": {},
   "source": [
    "#### C.) Descriptive Analysis"
   ]
  },
  {
   "cell_type": "code",
   "execution_count": 7,
   "metadata": {},
   "outputs": [
    {
     "data": {
      "text/plain": [
       "19.510451977401125"
      ]
     },
     "execution_count": 7,
     "metadata": {},
     "output_type": "execute_result"
    }
   ],
   "source": [
    "df['Usedprice'].mean()"
   ]
  },
  {
   "cell_type": "markdown",
   "metadata": {},
   "source": [
    "The mean used price of a video game in the United States that was released in 2004-2010 is 19.51 dollars."
   ]
  },
  {
   "cell_type": "code",
   "execution_count": 10,
   "metadata": {},
   "outputs": [
    {
     "data": {
      "text/plain": [
       "<Axes: xlabel='Usedprice'>"
      ]
     },
     "execution_count": 10,
     "metadata": {},
     "output_type": "execute_result"
    },
    {
     "data": {
      "image/png": "[encoded data removed]",
      "text/plain": [
       "<Figure size 640x480 with 1 Axes>"
      ]
     },
     "metadata": {},
     "output_type": "display_data"
    }
   ],
   "source": [
    "sns.boxplot(x = 'Usedprice', data = df)"
   ]
  },
  {
   "cell_type": "markdown",
   "metadata": {},
   "source": [
    "In this boxplot, I am visualizing the used prices of the video games in this sample. The center of this distribution appears to be around 19 dollars and the 25th percentile seems to be around 10 dollars and the 75th percentile appears to be around 25 dollars. There are many outliers, both upper and lower outliers, with one extreme value which is a video game selling for 120 dollars. The distribution may also be skewed right due to all the upper outliers. "
   ]
  },
  {
   "cell_type": "markdown",
   "metadata": {},
   "source": [
    "Median would be the appropriate measure to describe a feature of my variable of interest because as you can see in the box plot, there are a few outliers. The mean is sensitive to outliers therefore I would use the median instead. "
   ]
  },
  {
   "cell_type": "markdown",
   "metadata": {},
   "source": [
    "#### D.) Create a Confidence Interval (95%)"
   ]
  },
  {
   "cell_type": "code",
   "execution_count": 7,
   "metadata": {},
   "outputs": [
    {
     "data": {
      "text/html": [
       "<div>\n",
       "<style scoped>\n",
       "    .dataframe tbody tr th:only-of-type {\n",
       "        vertical-align: middle;\n",
       "    }\n",
       "\n",
       "    .dataframe tbody tr th {\n",
       "        vertical-align: top;\n",
       "    }\n",
       "\n",
       "    .dataframe thead th {\n",
       "        text-align: right;\n",
       "    }\n",
       "</style>\n",
       "<table border=\"1\" class=\"dataframe\">\n",
       "  <thead>\n",
       "    <tr style=\"text-align: right;\">\n",
       "      <th></th>\n",
       "      <th>x</th>\n",
       "    </tr>\n",
       "  </thead>\n",
       "  <tbody>\n",
       "    <tr>\n",
       "      <th>0</th>\n",
       "      <td>17.95</td>\n",
       "    </tr>\n",
       "    <tr>\n",
       "      <th>1</th>\n",
       "      <td>19.95</td>\n",
       "    </tr>\n",
       "    <tr>\n",
       "      <th>2</th>\n",
       "      <td>16.45</td>\n",
       "    </tr>\n",
       "    <tr>\n",
       "      <th>3</th>\n",
       "      <td>19.95</td>\n",
       "    </tr>\n",
       "    <tr>\n",
       "      <th>4</th>\n",
       "      <td>17.95</td>\n",
       "    </tr>\n",
       "    <tr>\n",
       "      <th>...</th>\n",
       "      <td>...</td>\n",
       "    </tr>\n",
       "    <tr>\n",
       "      <th>495</th>\n",
       "      <td>17.45</td>\n",
       "    </tr>\n",
       "    <tr>\n",
       "      <th>496</th>\n",
       "      <td>17.45</td>\n",
       "    </tr>\n",
       "    <tr>\n",
       "      <th>497</th>\n",
       "      <td>16.95</td>\n",
       "    </tr>\n",
       "    <tr>\n",
       "      <th>498</th>\n",
       "      <td>17.95</td>\n",
       "    </tr>\n",
       "    <tr>\n",
       "      <th>499</th>\n",
       "      <td>18.95</td>\n",
       "    </tr>\n",
       "  </tbody>\n",
       "</table>\n",
       "<p>500 rows × 1 columns</p>\n",
       "</div>"
      ],
      "text/plain": [
       "         x\n",
       "0    17.95\n",
       "1    19.95\n",
       "2    16.45\n",
       "3    19.95\n",
       "4    17.95\n",
       "..     ...\n",
       "495  17.45\n",
       "496  17.45\n",
       "497  16.95\n",
       "498  17.95\n",
       "499  18.95\n",
       "\n",
       "[500 rows x 1 columns]"
      ]
     },
     "execution_count": 7,
     "metadata": {},
     "output_type": "execute_result"
    }
   ],
   "source": [
    "data = []\n",
    "for i in range(500):\n",
    "    sample = df['Usedprice'].sample(10).median()\n",
    "    data.append(sample)\n",
    "df_sampling_dist = pd.DataFrame({'x':data})\n",
    "df_sampling_dist"
   ]
  },
  {
   "cell_type": "code",
   "execution_count": 9,
   "metadata": {},
   "outputs": [
    {
     "data": {
      "text/plain": [
       "14.95"
      ]
     },
     "execution_count": 9,
     "metadata": {},
     "output_type": "execute_result"
    }
   ],
   "source": [
    "(df_sampling_dist['x']).quantile(0.025)"
   ]
  },
  {
   "cell_type": "code",
   "execution_count": 10,
   "metadata": {},
   "outputs": [
    {
     "data": {
      "text/plain": [
       "21.974999999999977"
      ]
     },
     "execution_count": 10,
     "metadata": {},
     "output_type": "execute_result"
    }
   ],
   "source": [
    "(df_sampling_dist['x']).quantile(0.975)"
   ]
  },
  {
   "cell_type": "markdown",
   "metadata": {},
   "source": [
    "#### E.) Interpret the Confidence Interval and Level"
   ]
  },
  {
   "cell_type": "markdown",
   "metadata": {},
   "source": [
    "Confidence Interval: I am 95% confident that the population median used price for a video game that was released within 2004-2010 and is sold in the United States lies within this confidence interval range of 14.95 dollars to 21.97 dollars."
   ]
  },
  {
   "cell_type": "markdown",
   "metadata": {},
   "source": [
    "Confidence Level: If I were to repeat this procedure many times, calculating a confidence interval for each random sample, I would expect 95% of the confidence interals to contain the true population median of the used price of a video game released within 2004-2010 and sold in the United States."
   ]
  },
  {
   "cell_type": "markdown",
   "metadata": {},
   "source": [
    "## 3. Hypothesis Testing Analytical Tasks"
   ]
  },
  {
   "cell_type": "markdown",
   "metadata": {},
   "source": [
    "#### A.) Research Questions"
   ]
  },
  {
   "cell_type": "markdown",
   "metadata": {},
   "source": [
    "Is there a relationship between what console a video game is offered on and their US sales in millions? Is there an association between these two variables in my population?"
   ]
  },
  {
   "cell_type": "markdown",
   "metadata": {},
   "source": [
    "#### B.) Dataset Cleaning"
   ]
  },
  {
   "cell_type": "code",
   "execution_count": 69,
   "metadata": {},
   "outputs": [
    {
     "data": {
      "text/html": [
       "<div>\n",
       "<style scoped>\n",
       "    .dataframe tbody tr th:only-of-type {\n",
       "        vertical-align: middle;\n",
       "    }\n",
       "\n",
       "    .dataframe tbody tr th {\n",
       "        vertical-align: top;\n",
       "    }\n",
       "\n",
       "    .dataframe thead th {\n",
       "        text-align: right;\n",
       "    }\n",
       "</style>\n",
       "<table border=\"1\" class=\"dataframe\">\n",
       "  <thead>\n",
       "    <tr style=\"text-align: right;\">\n",
       "      <th></th>\n",
       "      <th>index</th>\n",
       "      <th>Console</th>\n",
       "      <th>Title</th>\n",
       "      <th>US Sales (millions)</th>\n",
       "      <th>Block4</th>\n",
       "      <th>Block2</th>\n",
       "      <th>Block1</th>\n",
       "      <th>Block0.5</th>\n",
       "      <th>YearReleased</th>\n",
       "      <th>2004</th>\n",
       "      <th>...</th>\n",
       "      <th>Tricks</th>\n",
       "      <th>Volleyball</th>\n",
       "      <th>Wakeboarding</th>\n",
       "      <th>Wrestling</th>\n",
       "      <th>FirstPerson</th>\n",
       "      <th>Platform</th>\n",
       "      <th>Isometric</th>\n",
       "      <th>SideScrolling</th>\n",
       "      <th>TopDown</th>\n",
       "      <th>ThirdPerson</th>\n",
       "    </tr>\n",
       "  </thead>\n",
       "  <tbody>\n",
       "    <tr>\n",
       "      <th>0</th>\n",
       "      <td>0</td>\n",
       "      <td>Nintendo DS</td>\n",
       "      <td>Super Mario 64 DS</td>\n",
       "      <td>4.69</td>\n",
       "      <td>1</td>\n",
       "      <td>1</td>\n",
       "      <td>1</td>\n",
       "      <td>1</td>\n",
       "      <td>2004</td>\n",
       "      <td>1</td>\n",
       "      <td>...</td>\n",
       "      <td>0</td>\n",
       "      <td>0</td>\n",
       "      <td>0</td>\n",
       "      <td>0</td>\n",
       "      <td>0</td>\n",
       "      <td>1</td>\n",
       "      <td>0</td>\n",
       "      <td>0</td>\n",
       "      <td>0</td>\n",
       "      <td>1</td>\n",
       "    </tr>\n",
       "    <tr>\n",
       "      <th>1</th>\n",
       "      <td>2</td>\n",
       "      <td>Nintendo DS</td>\n",
       "      <td>WarioWare Touched!</td>\n",
       "      <td>0.54</td>\n",
       "      <td>0</td>\n",
       "      <td>0</td>\n",
       "      <td>0</td>\n",
       "      <td>1</td>\n",
       "      <td>2004</td>\n",
       "      <td>1</td>\n",
       "      <td>...</td>\n",
       "      <td>0</td>\n",
       "      <td>0</td>\n",
       "      <td>0</td>\n",
       "      <td>0</td>\n",
       "      <td>0</td>\n",
       "      <td>1</td>\n",
       "      <td>1</td>\n",
       "      <td>1</td>\n",
       "      <td>1</td>\n",
       "      <td>1</td>\n",
       "    </tr>\n",
       "    <tr>\n",
       "      <th>2</th>\n",
       "      <td>4</td>\n",
       "      <td>Nintendo DS</td>\n",
       "      <td>Spider-Man 2</td>\n",
       "      <td>0.45</td>\n",
       "      <td>0</td>\n",
       "      <td>0</td>\n",
       "      <td>0</td>\n",
       "      <td>0</td>\n",
       "      <td>2004</td>\n",
       "      <td>1</td>\n",
       "      <td>...</td>\n",
       "      <td>0</td>\n",
       "      <td>0</td>\n",
       "      <td>0</td>\n",
       "      <td>0</td>\n",
       "      <td>0</td>\n",
       "      <td>1</td>\n",
       "      <td>0</td>\n",
       "      <td>1</td>\n",
       "      <td>0</td>\n",
       "      <td>1</td>\n",
       "    </tr>\n",
       "    <tr>\n",
       "      <th>3</th>\n",
       "      <td>5</td>\n",
       "      <td>Nintendo DS</td>\n",
       "      <td>The Urbz: Sims in the City</td>\n",
       "      <td>0.41</td>\n",
       "      <td>0</td>\n",
       "      <td>0</td>\n",
       "      <td>0</td>\n",
       "      <td>0</td>\n",
       "      <td>2004</td>\n",
       "      <td>1</td>\n",
       "      <td>...</td>\n",
       "      <td>0</td>\n",
       "      <td>0</td>\n",
       "      <td>0</td>\n",
       "      <td>0</td>\n",
       "      <td>0</td>\n",
       "      <td>0</td>\n",
       "      <td>1</td>\n",
       "      <td>0</td>\n",
       "      <td>0</td>\n",
       "      <td>0</td>\n",
       "    </tr>\n",
       "    <tr>\n",
       "      <th>4</th>\n",
       "      <td>8</td>\n",
       "      <td>Nintendo DS</td>\n",
       "      <td>Madden NFL 2005</td>\n",
       "      <td>0.25</td>\n",
       "      <td>0</td>\n",
       "      <td>0</td>\n",
       "      <td>0</td>\n",
       "      <td>0</td>\n",
       "      <td>2004</td>\n",
       "      <td>1</td>\n",
       "      <td>...</td>\n",
       "      <td>0</td>\n",
       "      <td>0</td>\n",
       "      <td>0</td>\n",
       "      <td>0</td>\n",
       "      <td>0</td>\n",
       "      <td>0</td>\n",
       "      <td>0</td>\n",
       "      <td>0</td>\n",
       "      <td>0</td>\n",
       "      <td>1</td>\n",
       "    </tr>\n",
       "    <tr>\n",
       "      <th>...</th>\n",
       "      <td>...</td>\n",
       "      <td>...</td>\n",
       "      <td>...</td>\n",
       "      <td>...</td>\n",
       "      <td>...</td>\n",
       "      <td>...</td>\n",
       "      <td>...</td>\n",
       "      <td>...</td>\n",
       "      <td>...</td>\n",
       "      <td>...</td>\n",
       "      <td>...</td>\n",
       "      <td>...</td>\n",
       "      <td>...</td>\n",
       "      <td>...</td>\n",
       "      <td>...</td>\n",
       "      <td>...</td>\n",
       "      <td>...</td>\n",
       "      <td>...</td>\n",
       "      <td>...</td>\n",
       "      <td>...</td>\n",
       "      <td>...</td>\n",
       "    </tr>\n",
       "    <tr>\n",
       "      <th>709</th>\n",
       "      <td>1751</td>\n",
       "      <td>Nintendo Wii</td>\n",
       "      <td>Trauma Team</td>\n",
       "      <td>0.10</td>\n",
       "      <td>0</td>\n",
       "      <td>0</td>\n",
       "      <td>0</td>\n",
       "      <td>0</td>\n",
       "      <td>2010</td>\n",
       "      <td>0</td>\n",
       "      <td>...</td>\n",
       "      <td>0</td>\n",
       "      <td>0</td>\n",
       "      <td>0</td>\n",
       "      <td>0</td>\n",
       "      <td>1</td>\n",
       "      <td>0</td>\n",
       "      <td>0</td>\n",
       "      <td>0</td>\n",
       "      <td>0</td>\n",
       "      <td>0</td>\n",
       "    </tr>\n",
       "    <tr>\n",
       "      <th>710</th>\n",
       "      <td>1752</td>\n",
       "      <td>Nintendo DS</td>\n",
       "      <td>Mega Man Zero Collection</td>\n",
       "      <td>0.10</td>\n",
       "      <td>0</td>\n",
       "      <td>0</td>\n",
       "      <td>0</td>\n",
       "      <td>0</td>\n",
       "      <td>2010</td>\n",
       "      <td>0</td>\n",
       "      <td>...</td>\n",
       "      <td>0</td>\n",
       "      <td>0</td>\n",
       "      <td>0</td>\n",
       "      <td>0</td>\n",
       "      <td>0</td>\n",
       "      <td>1</td>\n",
       "      <td>0</td>\n",
       "      <td>1</td>\n",
       "      <td>0</td>\n",
       "      <td>1</td>\n",
       "    </tr>\n",
       "    <tr>\n",
       "      <th>711</th>\n",
       "      <td>1756</td>\n",
       "      <td>Nintendo DS</td>\n",
       "      <td>Shin Megami Tensei: Strange Journey</td>\n",
       "      <td>0.08</td>\n",
       "      <td>0</td>\n",
       "      <td>0</td>\n",
       "      <td>0</td>\n",
       "      <td>0</td>\n",
       "      <td>2010</td>\n",
       "      <td>0</td>\n",
       "      <td>...</td>\n",
       "      <td>0</td>\n",
       "      <td>0</td>\n",
       "      <td>0</td>\n",
       "      <td>0</td>\n",
       "      <td>1</td>\n",
       "      <td>0</td>\n",
       "      <td>0</td>\n",
       "      <td>0</td>\n",
       "      <td>0</td>\n",
       "      <td>0</td>\n",
       "    </tr>\n",
       "    <tr>\n",
       "      <th>712</th>\n",
       "      <td>1759</td>\n",
       "      <td>Nintendo Wii</td>\n",
       "      <td>Data East Arcade Classics</td>\n",
       "      <td>0.06</td>\n",
       "      <td>0</td>\n",
       "      <td>0</td>\n",
       "      <td>0</td>\n",
       "      <td>0</td>\n",
       "      <td>2010</td>\n",
       "      <td>0</td>\n",
       "      <td>...</td>\n",
       "      <td>0</td>\n",
       "      <td>0</td>\n",
       "      <td>0</td>\n",
       "      <td>0</td>\n",
       "      <td>0</td>\n",
       "      <td>1</td>\n",
       "      <td>0</td>\n",
       "      <td>1</td>\n",
       "      <td>0</td>\n",
       "      <td>1</td>\n",
       "    </tr>\n",
       "    <tr>\n",
       "      <th>713</th>\n",
       "      <td>1767</td>\n",
       "      <td>Nintendo Wii</td>\n",
       "      <td>Sakura Wars: So Long, My Love</td>\n",
       "      <td>0.04</td>\n",
       "      <td>0</td>\n",
       "      <td>0</td>\n",
       "      <td>0</td>\n",
       "      <td>0</td>\n",
       "      <td>2010</td>\n",
       "      <td>0</td>\n",
       "      <td>...</td>\n",
       "      <td>0</td>\n",
       "      <td>0</td>\n",
       "      <td>0</td>\n",
       "      <td>0</td>\n",
       "      <td>0</td>\n",
       "      <td>0</td>\n",
       "      <td>0</td>\n",
       "      <td>0</td>\n",
       "      <td>0</td>\n",
       "      <td>1</td>\n",
       "    </tr>\n",
       "  </tbody>\n",
       "</table>\n",
       "<p>714 rows × 167 columns</p>\n",
       "</div>"
      ],
      "text/plain": [
       "     index       Console                                Title  \\\n",
       "0        0   Nintendo DS                    Super Mario 64 DS   \n",
       "1        2   Nintendo DS                   WarioWare Touched!   \n",
       "2        4   Nintendo DS                         Spider-Man 2   \n",
       "3        5   Nintendo DS           The Urbz: Sims in the City   \n",
       "4        8   Nintendo DS                      Madden NFL 2005   \n",
       "..     ...           ...                                  ...   \n",
       "709   1751  Nintendo Wii                          Trauma Team   \n",
       "710   1752   Nintendo DS             Mega Man Zero Collection   \n",
       "711   1756   Nintendo DS  Shin Megami Tensei: Strange Journey   \n",
       "712   1759  Nintendo Wii            Data East Arcade Classics   \n",
       "713   1767  Nintendo Wii        Sakura Wars: So Long, My Love   \n",
       "\n",
       "     US Sales (millions)  Block4  Block2  Block1  Block0.5  YearReleased  \\\n",
       "0                   4.69       1       1       1         1          2004   \n",
       "1                   0.54       0       0       0         1          2004   \n",
       "2                   0.45       0       0       0         0          2004   \n",
       "3                   0.41       0       0       0         0          2004   \n",
       "4                   0.25       0       0       0         0          2004   \n",
       "..                   ...     ...     ...     ...       ...           ...   \n",
       "709                 0.10       0       0       0         0          2010   \n",
       "710                 0.10       0       0       0         0          2010   \n",
       "711                 0.08       0       0       0         0          2010   \n",
       "712                 0.06       0       0       0         0          2010   \n",
       "713                 0.04       0       0       0         0          2010   \n",
       "\n",
       "     2004  ...  Tricks  Volleyball  Wakeboarding  Wrestling  FirstPerson  \\\n",
       "0       1  ...       0           0             0          0            0   \n",
       "1       1  ...       0           0             0          0            0   \n",
       "2       1  ...       0           0             0          0            0   \n",
       "3       1  ...       0           0             0          0            0   \n",
       "4       1  ...       0           0             0          0            0   \n",
       "..    ...  ...     ...         ...           ...        ...          ...   \n",
       "709     0  ...       0           0             0          0            1   \n",
       "710     0  ...       0           0             0          0            0   \n",
       "711     0  ...       0           0             0          0            1   \n",
       "712     0  ...       0           0             0          0            0   \n",
       "713     0  ...       0           0             0          0            0   \n",
       "\n",
       "     Platform  Isometric SideScrolling TopDown  ThirdPerson  \n",
       "0           1          0             0       0            1  \n",
       "1           1          1             1       1            1  \n",
       "2           1          0             1       0            1  \n",
       "3           0          1             0       0            0  \n",
       "4           0          0             0       0            1  \n",
       "..        ...        ...           ...     ...          ...  \n",
       "709         0          0             0       0            0  \n",
       "710         1          0             1       0            1  \n",
       "711         0          0             0       0            0  \n",
       "712         1          0             1       0            1  \n",
       "713         0          0             0       0            1  \n",
       "\n",
       "[714 rows x 167 columns]"
      ]
     },
     "execution_count": 69,
     "metadata": {},
     "output_type": "execute_result"
    }
   ],
   "source": [
    "df_consoles = df[(df['Console'] == 'Nintendo DS') | (df['Console'] == 'Nintendo Wii')]\n",
    "df_consoles = df_consoles.reset_index()\n",
    "df_consoles"
   ]
  },
  {
   "cell_type": "markdown",
   "metadata": {},
   "source": [
    "#### C.) Population Definition"
   ]
  },
  {
   "cell_type": "markdown",
   "metadata": {},
   "source": [
    "I have one population of interest with two variables recorded for it. My population of interest is all video games released and sold in the world and the two variables that were recorded for this were whether or not that game can be played on the Nintendo DS and whether or not it can be played on the Nintendo Wii. "
   ]
  },
  {
   "cell_type": "markdown",
   "metadata": {},
   "source": [
    "#### D.) Descriptive Analysis"
   ]
  },
  {
   "cell_type": "markdown",
   "metadata": {},
   "source": [
    "For the numerical summary, refer to part E when I used groupby to create a table of numerical summaries"
   ]
  },
  {
   "cell_type": "code",
   "execution_count": 72,
   "metadata": {},
   "outputs": [
    {
     "data": {
      "text/plain": [
       "<Axes: xlabel='Console', ylabel='US Sales (millions)'>"
      ]
     },
     "execution_count": 72,
     "metadata": {},
     "output_type": "execute_result"
    },
    {
     "data": {
      "image/png": "[encoded data removed]",
      "text/plain": [
       "<Figure size 640x480 with 1 Axes>"
      ]
     },
     "metadata": {},
     "output_type": "display_data"
    }
   ],
   "source": [
    "sns.boxplot(x = 'Console', y = 'US Sales (millions)', data = df_consoles)"
   ]
  },
  {
   "cell_type": "markdown",
   "metadata": {},
   "source": [
    "Looking at this box plot, I can see that there are many outliers for both Nintendo DS and Nintendo Wii. They are mostly upper outliers. Looking at the distribution for these 2 variables, I don't see that much variation in shape for Nintendo DS and Nintendo Wii which would lead me to believe that there doesn't appear to be a relationship between whether a game is on Nintendo DS or Nintendo Wii and how much money they made in US Sales. Both medians are around 1 million and for both of the distributions, most of the data lies within 0 to 1.2 million. Lastly, the fact that there are so many outliers for both box plots tells me that I need to use the median as my parameter of interest, not my mean. "
   ]
  },
  {
   "cell_type": "markdown",
   "metadata": {},
   "source": [
    "#### E.) Perform a Hypothesis Test"
   ]
  },
  {
   "cell_type": "markdown",
   "metadata": {},
   "source": [
    "The parameter of interest is Median 1 - Median 2 which is the difference in the median number of US Sales in millions for the Nintendo DS and the median number of US Sales in millions for the Nintendo Wii\n",
    "\n",
    "Null Hypothesis (H0): Median 1 - Median 2 = 0 -> There is no difference between the median amount of US Sales in millions for the Nintendo DS and the median number of US Sales in millions for the Nintendo Wii.\n",
    "\n",
    "Alternative Hypothesis (HA): Median 1 - Median 2 != 0 -> There is a difference between the median amount of US Sales in millions for the Nintendo DS and the median number of US Sales in millions for the Nintendo Wii.\n",
    "\n",
    "Significance Level: 0.05"
   ]
  },
  {
   "cell_type": "markdown",
   "metadata": {},
   "source": [
    "In order to match the conditions for a hypothesis test, I need to make sure that the samples are random samples and the population is normally distributed. I also need to adopt the skeptic's claim that there is no difference in median of these 2 variables so I will shuffle the labels without replacement."
   ]
  },
  {
   "cell_type": "code",
   "execution_count": 52,
   "metadata": {},
   "outputs": [
    {
     "data": {
      "text/html": [
       "<div>\n",
       "<style scoped>\n",
       "    .dataframe tbody tr th:only-of-type {\n",
       "        vertical-align: middle;\n",
       "    }\n",
       "\n",
       "    .dataframe tbody tr th {\n",
       "        vertical-align: top;\n",
       "    }\n",
       "\n",
       "    .dataframe thead th {\n",
       "        text-align: right;\n",
       "    }\n",
       "</style>\n",
       "<table border=\"1\" class=\"dataframe\">\n",
       "  <thead>\n",
       "    <tr style=\"text-align: right;\">\n",
       "      <th></th>\n",
       "      <th>index</th>\n",
       "      <th>shuffled</th>\n",
       "    </tr>\n",
       "  </thead>\n",
       "  <tbody>\n",
       "    <tr>\n",
       "      <th>0</th>\n",
       "      <td>211</td>\n",
       "      <td>Nintendo DS</td>\n",
       "    </tr>\n",
       "    <tr>\n",
       "      <th>1</th>\n",
       "      <td>146</td>\n",
       "      <td>Nintendo DS</td>\n",
       "    </tr>\n",
       "    <tr>\n",
       "      <th>2</th>\n",
       "      <td>533</td>\n",
       "      <td>Nintendo DS</td>\n",
       "    </tr>\n",
       "    <tr>\n",
       "      <th>3</th>\n",
       "      <td>355</td>\n",
       "      <td>Nintendo DS</td>\n",
       "    </tr>\n",
       "    <tr>\n",
       "      <th>4</th>\n",
       "      <td>551</td>\n",
       "      <td>Nintendo Wii</td>\n",
       "    </tr>\n",
       "    <tr>\n",
       "      <th>...</th>\n",
       "      <td>...</td>\n",
       "      <td>...</td>\n",
       "    </tr>\n",
       "    <tr>\n",
       "      <th>709</th>\n",
       "      <td>368</td>\n",
       "      <td>Nintendo DS</td>\n",
       "    </tr>\n",
       "    <tr>\n",
       "      <th>710</th>\n",
       "      <td>278</td>\n",
       "      <td>Nintendo DS</td>\n",
       "    </tr>\n",
       "    <tr>\n",
       "      <th>711</th>\n",
       "      <td>650</td>\n",
       "      <td>Nintendo Wii</td>\n",
       "    </tr>\n",
       "    <tr>\n",
       "      <th>712</th>\n",
       "      <td>360</td>\n",
       "      <td>Nintendo DS</td>\n",
       "    </tr>\n",
       "    <tr>\n",
       "      <th>713</th>\n",
       "      <td>588</td>\n",
       "      <td>Nintendo DS</td>\n",
       "    </tr>\n",
       "  </tbody>\n",
       "</table>\n",
       "<p>714 rows × 2 columns</p>\n",
       "</div>"
      ],
      "text/plain": [
       "     index      shuffled\n",
       "0      211   Nintendo DS\n",
       "1      146   Nintendo DS\n",
       "2      533   Nintendo DS\n",
       "3      355   Nintendo DS\n",
       "4      551  Nintendo Wii\n",
       "..     ...           ...\n",
       "709    368   Nintendo DS\n",
       "710    278   Nintendo DS\n",
       "711    650  Nintendo Wii\n",
       "712    360   Nintendo DS\n",
       "713    588   Nintendo DS\n",
       "\n",
       "[714 rows x 2 columns]"
      ]
     },
     "execution_count": 52,
     "metadata": {},
     "output_type": "execute_result"
    }
   ],
   "source": [
    "df_shuffled = pd.DataFrame({\"shuffled\": df_consoles['Console'].sample(714, replace = False)})\n",
    "df_shuffled = df_shuffled.reset_index()\n",
    "df_shuffled"
   ]
  },
  {
   "cell_type": "code",
   "execution_count": 50,
   "metadata": {},
   "outputs": [
    {
     "data": {
      "text/plain": [
       "Console\n",
       "Nintendo DS     418\n",
       "Nintendo Wii    296\n",
       "Name: count, dtype: int64"
      ]
     },
     "execution_count": 50,
     "metadata": {},
     "output_type": "execute_result"
    }
   ],
   "source": [
    "df_consoles['Console'].value_counts()"
   ]
  },
  {
   "cell_type": "code",
   "execution_count": 53,
   "metadata": {},
   "outputs": [
    {
     "data": {
      "text/plain": [
       "shuffled\n",
       "Nintendo DS     418\n",
       "Nintendo Wii    296\n",
       "Name: count, dtype: int64"
      ]
     },
     "execution_count": 53,
     "metadata": {},
     "output_type": "execute_result"
    }
   ],
   "source": [
    "df_shuffled['shuffled'].value_counts()"
   ]
  },
  {
   "cell_type": "markdown",
   "metadata": {},
   "source": [
    "The value counts for Nintendo DS and Nintendo Wii are the same before and after we shuffled. "
   ]
  },
  {
   "cell_type": "code",
   "execution_count": 55,
   "metadata": {},
   "outputs": [
    {
     "data": {
      "text/html": [
       "<div>\n",
       "<style scoped>\n",
       "    .dataframe tbody tr th:only-of-type {\n",
       "        vertical-align: middle;\n",
       "    }\n",
       "\n",
       "    .dataframe tbody tr th {\n",
       "        vertical-align: top;\n",
       "    }\n",
       "\n",
       "    .dataframe thead th {\n",
       "        text-align: right;\n",
       "    }\n",
       "</style>\n",
       "<table border=\"1\" class=\"dataframe\">\n",
       "  <thead>\n",
       "    <tr style=\"text-align: right;\">\n",
       "      <th></th>\n",
       "      <th>index</th>\n",
       "      <th>shuffled</th>\n",
       "      <th>US Sales</th>\n",
       "      <th>US Sales (millions)</th>\n",
       "    </tr>\n",
       "  </thead>\n",
       "  <tbody>\n",
       "    <tr>\n",
       "      <th>0</th>\n",
       "      <td>211</td>\n",
       "      <td>Nintendo DS</td>\n",
       "      <td>4.69</td>\n",
       "      <td>4.69</td>\n",
       "    </tr>\n",
       "    <tr>\n",
       "      <th>1</th>\n",
       "      <td>146</td>\n",
       "      <td>Nintendo DS</td>\n",
       "      <td>0.54</td>\n",
       "      <td>0.54</td>\n",
       "    </tr>\n",
       "    <tr>\n",
       "      <th>2</th>\n",
       "      <td>533</td>\n",
       "      <td>Nintendo DS</td>\n",
       "      <td>0.45</td>\n",
       "      <td>0.45</td>\n",
       "    </tr>\n",
       "    <tr>\n",
       "      <th>3</th>\n",
       "      <td>355</td>\n",
       "      <td>Nintendo DS</td>\n",
       "      <td>0.41</td>\n",
       "      <td>0.41</td>\n",
       "    </tr>\n",
       "    <tr>\n",
       "      <th>4</th>\n",
       "      <td>551</td>\n",
       "      <td>Nintendo Wii</td>\n",
       "      <td>0.25</td>\n",
       "      <td>0.25</td>\n",
       "    </tr>\n",
       "    <tr>\n",
       "      <th>...</th>\n",
       "      <td>...</td>\n",
       "      <td>...</td>\n",
       "      <td>...</td>\n",
       "      <td>...</td>\n",
       "    </tr>\n",
       "    <tr>\n",
       "      <th>709</th>\n",
       "      <td>368</td>\n",
       "      <td>Nintendo DS</td>\n",
       "      <td>0.10</td>\n",
       "      <td>0.10</td>\n",
       "    </tr>\n",
       "    <tr>\n",
       "      <th>710</th>\n",
       "      <td>278</td>\n",
       "      <td>Nintendo DS</td>\n",
       "      <td>0.10</td>\n",
       "      <td>0.10</td>\n",
       "    </tr>\n",
       "    <tr>\n",
       "      <th>711</th>\n",
       "      <td>650</td>\n",
       "      <td>Nintendo Wii</td>\n",
       "      <td>0.08</td>\n",
       "      <td>0.08</td>\n",
       "    </tr>\n",
       "    <tr>\n",
       "      <th>712</th>\n",
       "      <td>360</td>\n",
       "      <td>Nintendo DS</td>\n",
       "      <td>0.06</td>\n",
       "      <td>0.06</td>\n",
       "    </tr>\n",
       "    <tr>\n",
       "      <th>713</th>\n",
       "      <td>588</td>\n",
       "      <td>Nintendo DS</td>\n",
       "      <td>0.04</td>\n",
       "      <td>0.04</td>\n",
       "    </tr>\n",
       "  </tbody>\n",
       "</table>\n",
       "<p>714 rows × 4 columns</p>\n",
       "</div>"
      ],
      "text/plain": [
       "     index      shuffled  US Sales  US Sales (millions)\n",
       "0      211   Nintendo DS      4.69                 4.69\n",
       "1      146   Nintendo DS      0.54                 0.54\n",
       "2      533   Nintendo DS      0.45                 0.45\n",
       "3      355   Nintendo DS      0.41                 0.41\n",
       "4      551  Nintendo Wii      0.25                 0.25\n",
       "..     ...           ...       ...                  ...\n",
       "709    368   Nintendo DS      0.10                 0.10\n",
       "710    278   Nintendo DS      0.10                 0.10\n",
       "711    650  Nintendo Wii      0.08                 0.08\n",
       "712    360   Nintendo DS      0.06                 0.06\n",
       "713    588   Nintendo DS      0.04                 0.04\n",
       "\n",
       "[714 rows x 4 columns]"
      ]
     },
     "execution_count": 55,
     "metadata": {},
     "output_type": "execute_result"
    }
   ],
   "source": [
    "df_shuffled['US Sales (millions)'] = df_consoles['US Sales (millions)']\n",
    "df_shuffled"
   ]
  },
  {
   "cell_type": "code",
   "execution_count": 58,
   "metadata": {},
   "outputs": [
    {
     "data": {
      "text/html": [
       "<div>\n",
       "<style scoped>\n",
       "    .dataframe tbody tr th:only-of-type {\n",
       "        vertical-align: middle;\n",
       "    }\n",
       "\n",
       "    .dataframe tbody tr th {\n",
       "        vertical-align: top;\n",
       "    }\n",
       "\n",
       "    .dataframe thead tr th {\n",
       "        text-align: left;\n",
       "    }\n",
       "\n",
       "    .dataframe thead tr:last-of-type th {\n",
       "        text-align: right;\n",
       "    }\n",
       "</style>\n",
       "<table border=\"1\" class=\"dataframe\">\n",
       "  <thead>\n",
       "    <tr>\n",
       "      <th></th>\n",
       "      <th colspan=\"8\" halign=\"left\">US Sales (millions)</th>\n",
       "    </tr>\n",
       "    <tr>\n",
       "      <th></th>\n",
       "      <th>count</th>\n",
       "      <th>mean</th>\n",
       "      <th>std</th>\n",
       "      <th>min</th>\n",
       "      <th>25%</th>\n",
       "      <th>50%</th>\n",
       "      <th>75%</th>\n",
       "      <th>max</th>\n",
       "    </tr>\n",
       "    <tr>\n",
       "      <th>Console</th>\n",
       "      <th></th>\n",
       "      <th></th>\n",
       "      <th></th>\n",
       "      <th></th>\n",
       "      <th></th>\n",
       "      <th></th>\n",
       "      <th></th>\n",
       "      <th></th>\n",
       "    </tr>\n",
       "  </thead>\n",
       "  <tbody>\n",
       "    <tr>\n",
       "      <th>Nintendo DS</th>\n",
       "      <td>418.0</td>\n",
       "      <td>0.447943</td>\n",
       "      <td>1.121021</td>\n",
       "      <td>0.01</td>\n",
       "      <td>0.06</td>\n",
       "      <td>0.12</td>\n",
       "      <td>0.3275</td>\n",
       "      <td>10.03</td>\n",
       "    </tr>\n",
       "    <tr>\n",
       "      <th>Nintendo Wii</th>\n",
       "      <td>296.0</td>\n",
       "      <td>0.691115</td>\n",
       "      <td>1.775619</td>\n",
       "      <td>0.01</td>\n",
       "      <td>0.10</td>\n",
       "      <td>0.26</td>\n",
       "      <td>0.4800</td>\n",
       "      <td>14.66</td>\n",
       "    </tr>\n",
       "  </tbody>\n",
       "</table>\n",
       "</div>"
      ],
      "text/plain": [
       "             US Sales (millions)                                        \\\n",
       "                           count      mean       std   min   25%   50%   \n",
       "Console                                                                  \n",
       "Nintendo DS                418.0  0.447943  1.121021  0.01  0.06  0.12   \n",
       "Nintendo Wii               296.0  0.691115  1.775619  0.01  0.10  0.26   \n",
       "\n",
       "                             \n",
       "                 75%    max  \n",
       "Console                      \n",
       "Nintendo DS   0.3275  10.03  \n",
       "Nintendo Wii  0.4800  14.66  "
      ]
     },
     "execution_count": 58,
     "metadata": {},
     "output_type": "execute_result"
    }
   ],
   "source": [
    "df_consoles[['Console', 'US Sales (millions)']].groupby(['Console']).describe()"
   ]
  },
  {
   "cell_type": "code",
   "execution_count": 59,
   "metadata": {},
   "outputs": [
    {
     "data": {
      "text/html": [
       "<div>\n",
       "<style scoped>\n",
       "    .dataframe tbody tr th:only-of-type {\n",
       "        vertical-align: middle;\n",
       "    }\n",
       "\n",
       "    .dataframe tbody tr th {\n",
       "        vertical-align: top;\n",
       "    }\n",
       "\n",
       "    .dataframe thead tr th {\n",
       "        text-align: left;\n",
       "    }\n",
       "\n",
       "    .dataframe thead tr:last-of-type th {\n",
       "        text-align: right;\n",
       "    }\n",
       "</style>\n",
       "<table border=\"1\" class=\"dataframe\">\n",
       "  <thead>\n",
       "    <tr>\n",
       "      <th></th>\n",
       "      <th colspan=\"8\" halign=\"left\">US Sales (millions)</th>\n",
       "    </tr>\n",
       "    <tr>\n",
       "      <th></th>\n",
       "      <th>count</th>\n",
       "      <th>mean</th>\n",
       "      <th>std</th>\n",
       "      <th>min</th>\n",
       "      <th>25%</th>\n",
       "      <th>50%</th>\n",
       "      <th>75%</th>\n",
       "      <th>max</th>\n",
       "    </tr>\n",
       "    <tr>\n",
       "      <th>shuffled</th>\n",
       "      <th></th>\n",
       "      <th></th>\n",
       "      <th></th>\n",
       "      <th></th>\n",
       "      <th></th>\n",
       "      <th></th>\n",
       "      <th></th>\n",
       "      <th></th>\n",
       "    </tr>\n",
       "  </thead>\n",
       "  <tbody>\n",
       "    <tr>\n",
       "      <th>Nintendo DS</th>\n",
       "      <td>418.0</td>\n",
       "      <td>0.595359</td>\n",
       "      <td>1.565759</td>\n",
       "      <td>0.01</td>\n",
       "      <td>0.07</td>\n",
       "      <td>0.17</td>\n",
       "      <td>0.4275</td>\n",
       "      <td>14.66</td>\n",
       "    </tr>\n",
       "    <tr>\n",
       "      <th>Nintendo Wii</th>\n",
       "      <td>296.0</td>\n",
       "      <td>0.482939</td>\n",
       "      <td>1.221088</td>\n",
       "      <td>0.01</td>\n",
       "      <td>0.07</td>\n",
       "      <td>0.16</td>\n",
       "      <td>0.4200</td>\n",
       "      <td>12.39</td>\n",
       "    </tr>\n",
       "  </tbody>\n",
       "</table>\n",
       "</div>"
      ],
      "text/plain": [
       "             US Sales (millions)                                        \\\n",
       "                           count      mean       std   min   25%   50%   \n",
       "shuffled                                                                 \n",
       "Nintendo DS                418.0  0.595359  1.565759  0.01  0.07  0.17   \n",
       "Nintendo Wii               296.0  0.482939  1.221088  0.01  0.07  0.16   \n",
       "\n",
       "                             \n",
       "                 75%    max  \n",
       "shuffled                     \n",
       "Nintendo DS   0.4275  14.66  \n",
       "Nintendo Wii  0.4200  12.39  "
      ]
     },
     "execution_count": 59,
     "metadata": {},
     "output_type": "execute_result"
    }
   ],
   "source": [
    "df_shuffled[['shuffled', 'US Sales (millions)']].groupby(['shuffled']).describe()"
   ]
  },
  {
   "cell_type": "markdown",
   "metadata": {},
   "source": [
    "My observered statistic based on the original dataset is 0.12 - 0.26 = -0.14 which is the difference in median US Sales between Nintendo DS and Nintendo Wii. My observed statistic based on the shuffled dataset is 0.17 - 0.16 = 0.01. Now i need to generate a sampling distribution and do hypothesis testing to determine if the skeptic's claim is unusual or not."
   ]
  },
  {
   "cell_type": "code",
   "execution_count": 61,
   "metadata": {},
   "outputs": [
    {
     "data": {
      "text/html": [
       "<div>\n",
       "<style scoped>\n",
       "    .dataframe tbody tr th:only-of-type {\n",
       "        vertical-align: middle;\n",
       "    }\n",
       "\n",
       "    .dataframe tbody tr th {\n",
       "        vertical-align: top;\n",
       "    }\n",
       "\n",
       "    .dataframe thead th {\n",
       "        text-align: right;\n",
       "    }\n",
       "</style>\n",
       "<table border=\"1\" class=\"dataframe\">\n",
       "  <thead>\n",
       "    <tr style=\"text-align: right;\">\n",
       "      <th></th>\n",
       "      <th>x</th>\n",
       "    </tr>\n",
       "  </thead>\n",
       "  <tbody>\n",
       "    <tr>\n",
       "      <th>0</th>\n",
       "      <td>-0.005</td>\n",
       "    </tr>\n",
       "    <tr>\n",
       "      <th>1</th>\n",
       "      <td>-0.020</td>\n",
       "    </tr>\n",
       "    <tr>\n",
       "      <th>2</th>\n",
       "      <td>0.015</td>\n",
       "    </tr>\n",
       "    <tr>\n",
       "      <th>3</th>\n",
       "      <td>-0.020</td>\n",
       "    </tr>\n",
       "    <tr>\n",
       "      <th>4</th>\n",
       "      <td>0.025</td>\n",
       "    </tr>\n",
       "    <tr>\n",
       "      <th>...</th>\n",
       "      <td>...</td>\n",
       "    </tr>\n",
       "    <tr>\n",
       "      <th>995</th>\n",
       "      <td>-0.030</td>\n",
       "    </tr>\n",
       "    <tr>\n",
       "      <th>996</th>\n",
       "      <td>-0.010</td>\n",
       "    </tr>\n",
       "    <tr>\n",
       "      <th>997</th>\n",
       "      <td>0.040</td>\n",
       "    </tr>\n",
       "    <tr>\n",
       "      <th>998</th>\n",
       "      <td>0.000</td>\n",
       "    </tr>\n",
       "    <tr>\n",
       "      <th>999</th>\n",
       "      <td>-0.005</td>\n",
       "    </tr>\n",
       "  </tbody>\n",
       "</table>\n",
       "<p>1000 rows × 1 columns</p>\n",
       "</div>"
      ],
      "text/plain": [
       "         x\n",
       "0   -0.005\n",
       "1   -0.020\n",
       "2    0.015\n",
       "3   -0.020\n",
       "4    0.025\n",
       "..     ...\n",
       "995 -0.030\n",
       "996 -0.010\n",
       "997  0.040\n",
       "998  0.000\n",
       "999 -0.005\n",
       "\n",
       "[1000 rows x 1 columns]"
      ]
     },
     "execution_count": 61,
     "metadata": {},
     "output_type": "execute_result"
    }
   ],
   "source": [
    "sample_dist = []\n",
    "for i in range(1000):\n",
    "    df_shuffled = pd.DataFrame({'shuffled' : df_consoles['Console'].sample(714, replace = False)})\n",
    "    df_shuffled = df_shuffled.reset_index()\n",
    "    df_shuffled['US Sales (millions)'] = df_consoles['US Sales (millions)']\n",
    "    nin_ds = df_shuffled['US Sales (millions)'][df_shuffled['shuffled'] == 'Nintendo DS'].median()\n",
    "    nin_wii = df_shuffled['US Sales (millions)'][df_shuffled['shuffled'] == 'Nintendo Wii'].median()\n",
    "    sample_dist.append(nin_ds - nin_wii)\n",
    "results = pd.DataFrame({'x': sample_dist})\n",
    "results"
   ]
  },
  {
   "cell_type": "code",
   "execution_count": 67,
   "metadata": {},
   "outputs": [
    {
     "data": {
      "text/plain": [
       "x    0.824\n",
       "dtype: float64"
      ]
     },
     "execution_count": 67,
     "metadata": {},
     "output_type": "execute_result"
    }
   ],
   "source": [
    "(results <= -0.01).mean() + (results >= 0.01).mean()"
   ]
  },
  {
   "cell_type": "markdown",
   "metadata": {},
   "source": [
    "#### F.) Interpret Significance Level & p-value"
   ]
  },
  {
   "cell_type": "markdown",
   "metadata": {},
   "source": [
    "82.4% of my random samples have a difference in median of US Sales between Nintendo DS and Nintendo Wii greater than 0.01. 0.824 is greater than my p-value of 0.05.\n",
    "\n",
    "Based on my sample and at an 0.05 significance level, there is not sufficient evidence to suggest that there is a relationship between which console the video game is on and the amount, in millions, of its US Sales since my p-value of 0.824 is much greater than the significance level of 0.05. "
   ]
  },
  {
   "cell_type": "markdown",
   "metadata": {},
   "source": [
    "#### G.) Approach and Conclusion"
   ]
  },
  {
   "cell_type": "markdown",
   "metadata": {},
   "source": [
    "The way that I approached this hypothesis test was to compare the median US Sales of video games on consoles Nintendo DS and Nintendo Wii. This allowed me to observe whether or not there is a relaitonship between how succesful a video game is based on its US sales (in millions) and what console(s) it is released on. Using sampling distributions and hypothesis testing, I discovered my p-value to be greater than the significance level which helped me conclude that there is no relationship between how much a game makes in US Sales and what console(s) that game is released on. "
   ]
  },
  {
   "cell_type": "markdown",
   "metadata": {
    "jp-MarkdownHeadingCollapsed": true
   },
   "source": [
    "## Any other type of analysis/question you want to explore with this dataset.\n",
    "\n",
    "<u>Why?</u>: Sometimes undergraduate students will put the research projects that they did for their classes on their resumes when applying for graduate schools, internships, and jobs. If you're interested in showcasing cool analyses to write on your resume, this section could help with that. **(This section is not worth any points though).**"
   ]
  },
  {
   "cell_type": "code",
   "execution_count": null,
   "metadata": {},
   "outputs": [],
   "source": []
  },
  {
   "cell_type": "code",
   "execution_count": null,
   "metadata": {},
   "outputs": [],
   "source": []
  },
  {
   "cell_type": "code",
   "execution_count": null,
   "metadata": {},
   "outputs": [],
   "source": []
  },
  {
   "cell_type": "code",
   "execution_count": null,
   "metadata": {},
   "outputs": [],
   "source": []
  },
  {
   "cell_type": "code",
   "execution_count": null,
   "metadata": {},
   "outputs": [],
   "source": []
  },
  {
   "cell_type": "code",
   "execution_count": null,
   "metadata": {},
   "outputs": [],
   "source": []
  },
  {
   "cell_type": "code",
   "execution_count": null,
   "metadata": {},
   "outputs": [],
   "source": []
  },
  {
   "cell_type": "code",
   "execution_count": null,
   "metadata": {},
   "outputs": [],
   "source": []
  },
  {
   "cell_type": "code",
   "execution_count": null,
   "metadata": {},
   "outputs": [],
   "source": []
  },
  {
   "cell_type": "markdown",
   "metadata": {},
   "source": [
    "## 4. Conclusion"
   ]
  },
  {
   "cell_type": "markdown",
   "metadata": {},
   "source": [
    "#### A.) Summarization"
   ]
  },
  {
   "cell_type": "markdown",
   "metadata": {},
   "source": [
    "The dataset I used in this project is a sample of video games released from 2004-2010 that are sold in the U.S and my population of interest is all video games sold in the world. At the beginning of this report, I posed 2 research questions: 1. How is the used price of a video game collected because it might sell for different prices at different stores? What's a reasonable price range for a video game in the population of all video games released? and Is there a relationship between what console a video game is offered on and their US sales in millions? Is there an association between these two variables in my population? To answer the first question, I conducted a confidence interval test in order to determine an interval in which the population mean US Sales of video games would lie within. At a 95% confidence level, I found my confidence interval for my sampling distribution to be (14.95, 21.97). I was 95% sure that my parameter of interest would be within 14.95 dollars and 21.97 dollars. To answer my second research question, I conducted a hypothesis test using one sample but 2 variables of interest: whether or not the game can be played on Nintendo DS and whether or not the game can be played on Nintendo Wii. After adjusting my data to match the skeptic's claim and creating a sampling distribution, I calculated a p-value of 0.824 which is greater than my significance level of 0.05. This led me to conclude that I failed to reject the null hypothesis therefore I continue the assumption that there is no relationship between a video game's US Sales in millions and what console(s) that game is released on. "
   ]
  },
  {
   "cell_type": "markdown",
   "metadata": {},
   "source": [
    "#### B.) Limitations"
   ]
  },
  {
   "cell_type": "markdown",
   "metadata": {},
   "source": [
    "Carrying out the hypothesis test on one sample with 2 variables of interest proved to have quite a bit of limitations as well as difficulty. At first, I tried to carry out a hypothesis test on how many games in the dataset could be played on the Nintendo DS and how any games in the dataset could be played on the Nintendo Wii. This was not accurate and I could not figure out how to carry out a hypothesis test on 2 categorical variables. Another difficult thing was trying to match my dataset to the skeptic's claim when doing my hypothesis test. There were alot of steps such as shuffling the labels, resetting the index, creating a new dataframe, adding another column to that dataframe, comparing value counts,etc. A limiting factor is that there aren't that many categorical variables in the dataset to choose from, this might limit the choices a person of interest might have when trying to see what factors make a video game a blockbuster."
   ]
  },
  {
   "cell_type": "markdown",
   "metadata": {},
   "source": [
    "#### C.) Future Work"
   ]
  },
  {
   "cell_type": "markdown",
   "metadata": {},
   "source": [
    "If someone were to conduct future work based on these analyses, they might try to determine if a video game being available on multiple consoles does better in terms of US Sales as opposed to a video game that is only on one console. So in other words, use a hypothesis test to determine whether there is a relationship between number of consoles a game is on and US Sales. Another question future work might pose is how review score is related to the US Sales of a video game or how a game's genre is related to how much money they make in US millions."
   ]
  }
 ],
 "metadata": {
  "kernelspec": {
   "display_name": "Python 3 (ipykernel)",
   "language": "python",
   "name": "python3"
  },
  "language_info": {
   "codemirror_mode": {
    "name": "ipython",
    "version": 3
   },
   "file_extension": ".py",
   "mimetype": "text/x-python",
   "name": "python",
   "nbconvert_exporter": "python",
   "pygments_lexer": "ipython3",
   "version": "3.11.7"
  }
 },
 "nbformat": 4,
 "nbformat_minor": 4
}
